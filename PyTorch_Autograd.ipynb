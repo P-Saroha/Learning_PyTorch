{
  "cells": [
    {
      "cell_type": "markdown",
      "metadata": {
        "id": "E7y7iP6FWEB9"
      },
      "source": [
        "## 1. Basics of Autograd\n",
        "## PyTorch tracks operations on tensors with the attribute requires_grad=True. When operations are performed on these tensors, PyTorch builds a computation graph dynamically and allows automatic differentiation."
      ]
    },
    {
      "cell_type": "markdown",
      "metadata": {
        "id": "TvT8eCj-YRja"
      },
      "source": [
        "# Create a tensor with requires_grad=True\n",
        "x = torch.tensor(3.0, requires_grad=True)\n",
        "\n",
        "# Perform operations\n",
        "y = x ** 2  # y = x^2\n",
        "\n",
        "# Compute gradients\n",
        "y.backward()\n",
        "\n",
        "# Gradient of y w.r.t x (dy/dx = 2x)\n",
        "print(x.grad)  # Output: tensor(6.)\n",
        "\n"
      ]
    },
    {
      "cell_type": "markdown",
      "metadata": {
        "id": "JcKuqft4YlsZ"
      },
      "source": [
        "## Summary\n",
        "## requires_grad=True enables gradient tracking.\n",
        "\n",
        "## .backward() computes gradients.\n",
        "\n",
        "## zero_grad() clears gradients.\n",
        "\n",
        "## no_grad() disables tracking for performance.\n",
        "\n",
        "## detach() creates a tensor without gradient tracking.\n",
        "\n",
        "## autograd.grad() computes derivatives explicitly."
      ]
    },
    {
      "cell_type": "code",
      "execution_count": 157,
      "metadata": {
        "id": "YDGC63EJDuUx"
      },
      "outputs": [],
      "source": [
        "import torch"
      ]
    },
    {
      "cell_type": "code",
      "execution_count": 158,
      "metadata": {
        "id": "IjvoFgemWd2m"
      },
      "outputs": [],
      "source": [
        "x = torch.tensor(2.0, requires_grad=True)"
      ]
    },
    {
      "cell_type": "code",
      "execution_count": 159,
      "metadata": {
        "id": "IDhV_qo1Wu1F"
      },
      "outputs": [],
      "source": [
        "y = x**3"
      ]
    },
    {
      "cell_type": "code",
      "execution_count": 160,
      "metadata": {
        "colab": {
          "base_uri": "https://localhost:8080/"
        },
        "id": "NDh08xnxW1ic",
        "outputId": "ac15dfa2-d833-42cf-dbc1-ea93dfd5db37"
      },
      "outputs": [
        {
          "data": {
            "text/plain": [
              "tensor(8., grad_fn=<PowBackward0>)"
            ]
          },
          "execution_count": 160,
          "metadata": {},
          "output_type": "execute_result"
        }
      ],
      "source": [
        "y"
      ]
    },
    {
      "cell_type": "code",
      "execution_count": 161,
      "metadata": {
        "id": "FpD5vXy3W240"
      },
      "outputs": [],
      "source": [
        "y.backward()"
      ]
    },
    {
      "cell_type": "code",
      "execution_count": 162,
      "metadata": {
        "colab": {
          "base_uri": "https://localhost:8080/"
        },
        "id": "Gy6TMssxX3Q2",
        "outputId": "b24c7975-c6da-4ed6-fcb6-8b19da22e054"
      },
      "outputs": [
        {
          "data": {
            "text/plain": [
              "tensor(12.)"
            ]
          },
          "execution_count": 162,
          "metadata": {},
          "output_type": "execute_result"
        }
      ],
      "source": [
        "x.grad"
      ]
    },
    {
      "cell_type": "code",
      "execution_count": 163,
      "metadata": {
        "id": "H-AVFpzlX5GT"
      },
      "outputs": [],
      "source": [
        "## another example\n",
        "a = torch.tensor(2.0 , requires_grad=True)"
      ]
    },
    {
      "cell_type": "code",
      "execution_count": 164,
      "metadata": {
        "id": "ipRRgRBpZYB6"
      },
      "outputs": [],
      "source": [
        "b = a**2"
      ]
    },
    {
      "cell_type": "code",
      "execution_count": 165,
      "metadata": {
        "id": "cHaLKbRhZjRI"
      },
      "outputs": [],
      "source": [
        "c = torch.sin(b)"
      ]
    },
    {
      "cell_type": "code",
      "execution_count": 166,
      "metadata": {
        "colab": {
          "base_uri": "https://localhost:8080/"
        },
        "id": "8e4aifnzbM-A",
        "outputId": "3d50d1e1-9c49-4f24-b955-03b0b072e7ec"
      },
      "outputs": [
        {
          "data": {
            "text/plain": [
              "tensor(2., requires_grad=True)"
            ]
          },
          "execution_count": 166,
          "metadata": {},
          "output_type": "execute_result"
        }
      ],
      "source": [
        "a"
      ]
    },
    {
      "cell_type": "code",
      "execution_count": 167,
      "metadata": {
        "colab": {
          "base_uri": "https://localhost:8080/"
        },
        "id": "XNl9NYt7ZncR",
        "outputId": "7cd43331-623c-4129-8d3f-8ea9fd5c3ce6"
      },
      "outputs": [
        {
          "data": {
            "text/plain": [
              "tensor(4., grad_fn=<PowBackward0>)"
            ]
          },
          "execution_count": 167,
          "metadata": {},
          "output_type": "execute_result"
        }
      ],
      "source": [
        "b"
      ]
    },
    {
      "cell_type": "code",
      "execution_count": 168,
      "metadata": {
        "colab": {
          "base_uri": "https://localhost:8080/"
        },
        "id": "1lMrcveWbSgq",
        "outputId": "6c84a294-343f-4620-a804-fa74ee45725e"
      },
      "outputs": [
        {
          "data": {
            "text/plain": [
              "tensor(-0.7568, grad_fn=<SinBackward0>)"
            ]
          },
          "execution_count": 168,
          "metadata": {},
          "output_type": "execute_result"
        }
      ],
      "source": [
        "c"
      ]
    },
    {
      "cell_type": "markdown",
      "metadata": {
        "id": "2-xKMKpjZ8sq"
      },
      "source": [
        "## a ---> square ----> b -----> sin ------> z\n",
        "\n",
        "## now find dz/da ??\n",
        "## dz/db --> db/da ----> answer"
      ]
    },
    {
      "cell_type": "code",
      "execution_count": 169,
      "metadata": {
        "id": "YW4SNIcGZrfa"
      },
      "outputs": [],
      "source": [
        "c.backward()"
      ]
    },
    {
      "cell_type": "code",
      "execution_count": 170,
      "metadata": {
        "colab": {
          "base_uri": "https://localhost:8080/"
        },
        "id": "l6zARR5za93u",
        "outputId": "d76a12e3-7e16-49bb-b58e-0c44ab430e34"
      },
      "outputs": [
        {
          "data": {
            "text/plain": [
              "tensor(-2.6146)"
            ]
          },
          "execution_count": 170,
          "metadata": {},
          "output_type": "execute_result"
        }
      ],
      "source": [
        "a.grad"
      ]
    },
    {
      "cell_type": "markdown",
      "metadata": {
        "id": "uO7d2YpLeyJX"
      },
      "source": []
    },
    {
      "cell_type": "code",
      "execution_count": 171,
      "metadata": {
        "id": "ltdM3W8Na_kE"
      },
      "outputs": [],
      "source": [
        "x = torch.tensor(6.7)\n",
        "y = torch.tensor(0.0)"
      ]
    },
    {
      "cell_type": "code",
      "execution_count": 172,
      "metadata": {
        "id": "HodYbVJWe9jI"
      },
      "outputs": [],
      "source": [
        "weight = torch.tensor(1.0, requires_grad= True)\n",
        "bias = torch.tensor(0.0 , requires_grad=True)"
      ]
    },
    {
      "cell_type": "code",
      "execution_count": 173,
      "metadata": {
        "colab": {
          "base_uri": "https://localhost:8080/"
        },
        "id": "NiJ7hinifMzn",
        "outputId": "88762419-6a56-428d-e916-3863df577933"
      },
      "outputs": [
        {
          "data": {
            "text/plain": [
              "tensor(1., requires_grad=True)"
            ]
          },
          "execution_count": 173,
          "metadata": {},
          "output_type": "execute_result"
        }
      ],
      "source": [
        "weight"
      ]
    },
    {
      "cell_type": "code",
      "execution_count": 174,
      "metadata": {
        "colab": {
          "base_uri": "https://localhost:8080/"
        },
        "id": "1mFQZDBkfUhD",
        "outputId": "e3219a6e-7c55-46b8-ee1f-87be63ce896a"
      },
      "outputs": [
        {
          "data": {
            "text/plain": [
              "tensor(0., requires_grad=True)"
            ]
          },
          "execution_count": 174,
          "metadata": {},
          "output_type": "execute_result"
        }
      ],
      "source": [
        "bias"
      ]
    },
    {
      "cell_type": "code",
      "execution_count": 175,
      "metadata": {
        "colab": {
          "base_uri": "https://localhost:8080/"
        },
        "id": "E2HzrDyVfVXU",
        "outputId": "5bc57a72-1d6a-4377-ad1d-5206c9d684e9"
      },
      "outputs": [
        {
          "data": {
            "text/plain": [
              "tensor(6.7000, grad_fn=<AddBackward0>)"
            ]
          },
          "execution_count": 175,
          "metadata": {},
          "output_type": "execute_result"
        }
      ],
      "source": [
        "## forword propogation\n",
        "z = weight*x + bias\n",
        "z"
      ]
    },
    {
      "cell_type": "code",
      "execution_count": 176,
      "metadata": {
        "colab": {
          "base_uri": "https://localhost:8080/"
        },
        "id": "PB_LWfo1fkZg",
        "outputId": "0411066f-65eb-4412-e899-6d41001128b1"
      },
      "outputs": [
        {
          "data": {
            "text/plain": [
              "tensor(0.9988, grad_fn=<SigmoidBackward0>)"
            ]
          },
          "execution_count": 176,
          "metadata": {},
          "output_type": "execute_result"
        }
      ],
      "source": [
        "## sigmoid\n",
        "y_pred = torch.sigmoid(z)\n",
        "y_pred"
      ]
    },
    {
      "cell_type": "code",
      "execution_count": 177,
      "metadata": {
        "colab": {
          "base_uri": "https://localhost:8080/"
        },
        "id": "hX3NM_Kgf2pR",
        "outputId": "56897e63-f0d5-463a-ad61-a1f3bdf2748c"
      },
      "outputs": [
        {
          "data": {
            "text/plain": [
              "tensor(6.7012, grad_fn=<BinaryCrossEntropyBackward0>)"
            ]
          },
          "execution_count": 177,
          "metadata": {},
          "output_type": "execute_result"
        }
      ],
      "source": [
        "## loss\n",
        "import torch.nn.functional as F\n",
        "loss = F.binary_cross_entropy(y_pred, y)\n",
        "loss"
      ]
    },
    {
      "cell_type": "code",
      "execution_count": 178,
      "metadata": {
        "id": "Qh84FctqgFlK"
      },
      "outputs": [],
      "source": [
        "loss.backward()"
      ]
    },
    {
      "cell_type": "code",
      "execution_count": 179,
      "metadata": {
        "colab": {
          "base_uri": "https://localhost:8080/"
        },
        "id": "tyHSmZzChQlH",
        "outputId": "97563568-f73e-4141-bc54-250e2a8af64b"
      },
      "outputs": [
        {
          "name": "stdout",
          "output_type": "stream",
          "text": [
            "tensor(6.6918)\n",
            "tensor(0.9988)\n"
          ]
        }
      ],
      "source": [
        "print(weight.grad)\n",
        "print(bias.grad)"
      ]
    },
    {
      "cell_type": "code",
      "execution_count": 180,
      "metadata": {
        "id": "-wLY4oaehkhu"
      },
      "outputs": [],
      "source": [
        "x = torch.tensor([0.0,1.1,2.2,3.3], requires_grad=True)"
      ]
    },
    {
      "cell_type": "code",
      "execution_count": 181,
      "metadata": {
        "colab": {
          "base_uri": "https://localhost:8080/"
        },
        "id": "xs0mu85RvznK",
        "outputId": "ac914c71-c2e3-4d73-8a64-9f69bf1897a2"
      },
      "outputs": [
        {
          "data": {
            "text/plain": [
              "tensor([0.0000, 1.1000, 2.2000, 3.3000], requires_grad=True)"
            ]
          },
          "execution_count": 181,
          "metadata": {},
          "output_type": "execute_result"
        }
      ],
      "source": [
        "x"
      ]
    },
    {
      "cell_type": "code",
      "execution_count": 182,
      "metadata": {
        "id": "3V3t3TGyv0iz"
      },
      "outputs": [],
      "source": [
        "y = (x**2).mean()"
      ]
    },
    {
      "cell_type": "code",
      "execution_count": 183,
      "metadata": {
        "colab": {
          "base_uri": "https://localhost:8080/"
        },
        "id": "xg_27Ds6v8Ct",
        "outputId": "e448d870-b9d9-45e4-e3ff-e7719e26ffe3"
      },
      "outputs": [
        {
          "data": {
            "text/plain": [
              "tensor(4.2350, grad_fn=<MeanBackward0>)"
            ]
          },
          "execution_count": 183,
          "metadata": {},
          "output_type": "execute_result"
        }
      ],
      "source": [
        "y"
      ]
    },
    {
      "cell_type": "code",
      "execution_count": 184,
      "metadata": {
        "id": "XxUNJ8r-v8sw"
      },
      "outputs": [],
      "source": [
        "y.backward()"
      ]
    },
    {
      "cell_type": "code",
      "execution_count": 185,
      "metadata": {
        "colab": {
          "base_uri": "https://localhost:8080/"
        },
        "id": "o9WBQRRNwDN5",
        "outputId": "7216245b-f0a6-4c1a-d40e-a74fc1da2028"
      },
      "outputs": [
        {
          "data": {
            "text/plain": [
              "tensor([0.0000, 0.5500, 1.1000, 1.6500])"
            ]
          },
          "execution_count": 185,
          "metadata": {},
          "output_type": "execute_result"
        }
      ],
      "source": [
        "x.grad"
      ]
    },
    {
      "cell_type": "markdown",
      "metadata": {
        "id": "VeyhNP4RxhAZ"
      },
      "source": [
        "## Clearing Gradients in PyTorch\n",
        "PyTorch accumulates gradients by default instead of replacing them in each backward pass. To prevent unwanted gradient accumulation, you need to clear gradients manually before calling .backward()."
      ]
    },
    {
      "cell_type": "code",
      "execution_count": 186,
      "metadata": {
        "id": "vA_Dsa2LwLAb"
      },
      "outputs": [],
      "source": [
        "## clearing grad\n",
        "x = torch.tensor(2.0, requires_grad=True)"
      ]
    },
    {
      "cell_type": "code",
      "execution_count": 187,
      "metadata": {
        "id": "Wor1s0JQxyT0"
      },
      "outputs": [],
      "source": [
        "y = x**2"
      ]
    },
    {
      "cell_type": "code",
      "execution_count": 188,
      "metadata": {
        "id": "ZQcCKKobx0pS"
      },
      "outputs": [],
      "source": [
        "y.backward()"
      ]
    },
    {
      "cell_type": "code",
      "execution_count": 189,
      "metadata": {
        "colab": {
          "base_uri": "https://localhost:8080/"
        },
        "id": "tPo8MWbwx3L8",
        "outputId": "34629588-8cd3-4f71-ef16-09c402af2652"
      },
      "outputs": [
        {
          "data": {
            "text/plain": [
              "tensor(4.)"
            ]
          },
          "execution_count": 189,
          "metadata": {},
          "output_type": "execute_result"
        }
      ],
      "source": [
        "x.grad"
      ]
    },
    {
      "cell_type": "code",
      "execution_count": 190,
      "metadata": {
        "colab": {
          "base_uri": "https://localhost:8080/"
        },
        "id": "0NZ9m_c2x6Gm",
        "outputId": "6c5179d6-b8f8-4a5d-b7c1-bcf5ad1842e5"
      },
      "outputs": [
        {
          "data": {
            "text/plain": [
              "tensor(0.)"
            ]
          },
          "execution_count": 190,
          "metadata": {},
          "output_type": "execute_result"
        }
      ],
      "source": [
        "# Clear gradients\n",
        "# optimizer.zero_grad()\n",
        "x.grad.zero_()"
      ]
    },
    {
      "cell_type": "markdown",
      "metadata": {
        "id": "_fWQPmkl0iW4"
      },
      "source": [
        "##v1. Using torch.no_grad() (Recommended for Inference)\n",
        "✅ Best for model inference when you don’t need gradients.\n",
        "✅ Reduces memory usage and speeds up computations."
      ]
    },
    {
      "cell_type": "code",
      "execution_count": 191,
      "metadata": {
        "colab": {
          "base_uri": "https://localhost:8080/"
        },
        "id": "CfakXk_EyHWd",
        "outputId": "d5024665-51f2-4339-f4a7-a882101e6cb4"
      },
      "outputs": [
        {
          "name": "stdout",
          "output_type": "stream",
          "text": [
            "True\n",
            "False\n"
          ]
        }
      ],
      "source": [
        "import torch\n",
        "import torch.nn as nn\n",
        "\n",
        "# Example tensor with requires_grad=True\n",
        "x = torch.tensor([3.0], requires_grad=True)\n",
        "\n",
        "# Normal forward pass (gradients tracked)\n",
        "y = x * 2\n",
        "print(y.requires_grad)  # Output: True\n",
        "\n",
        "# Forward pass with no gradient tracking\n",
        "with torch.no_grad():\n",
        "    y_no_grad = x * 2\n",
        "    print(y_no_grad.requires_grad)  # Output: False\n"
      ]
    },
    {
      "cell_type": "markdown",
      "metadata": {
        "id": "E3cxnFqv0vZn"
      },
      "source": [
        "## 2. Using detach() (For Detaching Tensor From Computation Graph)\n",
        "✅ Creates a new tensor that does not require gradients.\n",
        "✅ Useful when you want to prevent gradient updates for specific tensors."
      ]
    },
    {
      "cell_type": "code",
      "execution_count": 192,
      "metadata": {
        "colab": {
          "base_uri": "https://localhost:8080/"
        },
        "id": "Lvy3tOyI0n4-",
        "outputId": "234b0cd4-28c8-439b-b7d3-5b0f908f7845"
      },
      "outputs": [
        {
          "name": "stdout",
          "output_type": "stream",
          "text": [
            "False\n"
          ]
        }
      ],
      "source": [
        "x = torch.tensor([3.0], requires_grad=True)\n",
        "y = x * 2\n",
        "\n",
        "# Detach y from computation graph\n",
        "y_detached = y.detach()\n",
        "print(y_detached.requires_grad)  # Output: False\n"
      ]
    },
    {
      "cell_type": "markdown",
      "metadata": {
        "id": "HgX_vihg04ml"
      },
      "source": [
        "## 3. Using requires_grad_(False) (For Freezing Model Parameters)\n",
        "✅ Modifies an existing tensor or model parameter to stop tracking gradients.\n",
        "✅ Useful for freezing model layers during transfer learning."
      ]
    },
    {
      "cell_type": "code",
      "execution_count": 193,
      "metadata": {
        "colab": {
          "base_uri": "https://localhost:8080/"
        },
        "id": "ErGPtFTu013H",
        "outputId": "bb714dda-a251-4b17-ac3a-bf527ff80da9"
      },
      "outputs": [
        {
          "name": "stdout",
          "output_type": "stream",
          "text": [
            "[False, False]\n"
          ]
        }
      ],
      "source": [
        "# Define a model\n",
        "model = nn.Linear(10, 1)\n",
        "\n",
        "# Freeze model parameters (disable gradient tracking)\n",
        "for param in model.parameters():\n",
        "    param.requires_grad_(False)\n",
        "\n",
        "# Check if gradients are disabled\n",
        "print([param.requires_grad for param in model.parameters()])  # Output: [False, False]\n"
      ]
    },
    {
      "cell_type": "code",
      "execution_count": 193,
      "metadata": {
        "id": "nRtTlmUA1ATi"
      },
      "outputs": [],
      "source": []
    }
  ],
  "metadata": {
    "colab": {
      "provenance": []
    },
    "kernelspec": {
      "display_name": "Python 3",
      "name": "python3"
    },
    "language_info": {
      "name": "python",
      "version": "3.11.9"
    }
  },
  "nbformat": 4,
  "nbformat_minor": 0
}
