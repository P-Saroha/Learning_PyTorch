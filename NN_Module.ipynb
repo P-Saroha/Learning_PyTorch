{
  "nbformat": 4,
  "nbformat_minor": 0,
  "metadata": {
    "colab": {
      "provenance": []
    },
    "kernelspec": {
      "name": "python3",
      "display_name": "Python 3"
    },
    "language_info": {
      "name": "python"
    }
  },
  "cells": [
    {
      "cell_type": "code",
      "source": [
        "import torch\n",
        "import torch.nn as nn"
      ],
      "metadata": {
        "id": "tFBJ7Fw2bWwS"
      },
      "execution_count": 4,
      "outputs": []
    },
    {
      "cell_type": "code",
      "execution_count": 7,
      "metadata": {
        "id": "WxzOnJ4rxnL8"
      },
      "outputs": [],
      "source": [
        "# Create model class\n",
        "\n",
        "\n",
        "class Model(nn.Module):\n",
        "\n",
        "    def __init__(self, num_features):\n",
        "        super().__init__()\n",
        "        self.linear = nn.Linear(num_features, 1) # input -> number of features and output -> how many featues are going through it (5,1)\n",
        "        self.sigmoid = nn.Sigmoid() # activation function\n",
        "\n",
        "    def forward(self, features):\n",
        "        out = self.linear(features)\n",
        "        out = self.sigmoid(out) # Apply sigmoid to the output of the linear layer\n",
        "        return out # Return the output after sigmoid"
      ]
    },
    {
      "cell_type": "code",
      "source": [
        "## creating dataset\n",
        "features = torch.rand(10,5)\n",
        "\n",
        "## create model\n",
        "model = Model(features.shape[1])\n",
        "\n",
        "## call model for forword pass\n",
        "model(features)\n"
      ],
      "metadata": {
        "colab": {
          "base_uri": "https://localhost:8080/"
        },
        "id": "SrRErI_zX-eo",
        "outputId": "6233dc80-4484-4c11-d8fc-90e070fd1361"
      },
      "execution_count": 9,
      "outputs": [
        {
          "output_type": "execute_result",
          "data": {
            "text/plain": [
              "tensor([[0.3724],\n",
              "        [0.3882],\n",
              "        [0.3770],\n",
              "        [0.3893],\n",
              "        [0.3612],\n",
              "        [0.4233],\n",
              "        [0.3597],\n",
              "        [0.4247],\n",
              "        [0.3931],\n",
              "        [0.4135]], grad_fn=<SigmoidBackward0>)"
            ]
          },
          "metadata": {},
          "execution_count": 9
        }
      ]
    },
    {
      "cell_type": "code",
      "source": [
        " ## show model weights and bias\n",
        " model.linear.weight"
      ],
      "metadata": {
        "colab": {
          "base_uri": "https://localhost:8080/"
        },
        "id": "wzt_VegKbOW7",
        "outputId": "e8ca43a9-2605-4d8a-de70-26561669d364"
      },
      "execution_count": 11,
      "outputs": [
        {
          "output_type": "execute_result",
          "data": {
            "text/plain": [
              "Parameter containing:\n",
              "tensor([[ 0.0873, -0.0051,  0.1946, -0.1572, -0.2763]], requires_grad=True)"
            ]
          },
          "metadata": {},
          "execution_count": 11
        }
      ]
    },
    {
      "cell_type": "code",
      "source": [
        "!pip install torchinfo"
      ],
      "metadata": {
        "colab": {
          "base_uri": "https://localhost:8080/"
        },
        "id": "NrfG3SI2c7bh",
        "outputId": "d4dad19f-df4d-41c3-8fe7-f81b20b0c994"
      },
      "execution_count": 12,
      "outputs": [
        {
          "output_type": "stream",
          "name": "stdout",
          "text": [
            "Collecting torchinfo\n",
            "  Downloading torchinfo-1.8.0-py3-none-any.whl.metadata (21 kB)\n",
            "Downloading torchinfo-1.8.0-py3-none-any.whl (23 kB)\n",
            "Installing collected packages: torchinfo\n",
            "Successfully installed torchinfo-1.8.0\n"
          ]
        }
      ]
    },
    {
      "cell_type": "code",
      "source": [
        "from torchinfo import summary\n",
        "summary(model, input_size=(10,5))"
      ],
      "metadata": {
        "colab": {
          "base_uri": "https://localhost:8080/"
        },
        "id": "ltLMNrvgdGIo",
        "outputId": "8fc40d05-0f10-4e22-c4e7-d43269856ace"
      },
      "execution_count": 14,
      "outputs": [
        {
          "output_type": "execute_result",
          "data": {
            "text/plain": [
              "==========================================================================================\n",
              "Layer (type:depth-idx)                   Output Shape              Param #\n",
              "==========================================================================================\n",
              "Model                                    [10, 1]                   --\n",
              "├─Linear: 1-1                            [10, 1]                   6\n",
              "├─Sigmoid: 1-2                           [10, 1]                   --\n",
              "==========================================================================================\n",
              "Total params: 6\n",
              "Trainable params: 6\n",
              "Non-trainable params: 0\n",
              "Total mult-adds (Units.MEGABYTES): 0.00\n",
              "==========================================================================================\n",
              "Input size (MB): 0.00\n",
              "Forward/backward pass size (MB): 0.00\n",
              "Params size (MB): 0.00\n",
              "Estimated Total Size (MB): 0.00\n",
              "=========================================================================================="
            ]
          },
          "metadata": {},
          "execution_count": 14
        }
      ]
    },
    {
      "cell_type": "code",
      "source": [
        "## creating nn with 5 input weights 3 hidden layer and output layer\n",
        "## 18 weights 4 bias\n",
        "## we apply relu in hidden layer and in output we apply sigmoid\n",
        "\n",
        "class Model(nn.Module):\n",
        "\n",
        "    def __init__(self, num_features):\n",
        "        super().__init__()\n",
        "        self.linear1 = nn.Linear(num_features, 3) # input -> number of features hidden layer is getting(5) and output() -> how many featues are going through(3)\n",
        "        self.relu = nn.ReLU() # activation function\n",
        "        self.linear2 = nn.Linear(3,1) # getting 3 features as input, as output 1 features is passing through it\n",
        "        self.sigmoid = nn.Sigmoid() # activation function\n",
        "\n",
        "    def forward(self, features):\n",
        "        out = self.linear1(features)\n",
        "        out = self.relu(out) # Apply relu to the output of the linear layer\n",
        "        out = self.linear2(out)\n",
        "        out = self.sigmoid(out) # Apply sigmoid to the output of the linear layer\n",
        "        return out # Return the output after sigmoid\n"
      ],
      "metadata": {
        "id": "Rd64xR3XdTzR"
      },
      "execution_count": 23,
      "outputs": []
    },
    {
      "cell_type": "code",
      "source": [
        "## creating dataset\n",
        "features = torch.rand(10,5)\n",
        "\n",
        "## create model\n",
        "model = Model(features.shape[1])\n",
        "\n",
        "## call model for forword pass\n",
        "model(features)\n"
      ],
      "metadata": {
        "colab": {
          "base_uri": "https://localhost:8080/"
        },
        "id": "3fAussDkh9Ea",
        "outputId": "4de7456b-4533-43f1-ae76-73e4ca8c8990"
      },
      "execution_count": 24,
      "outputs": [
        {
          "output_type": "execute_result",
          "data": {
            "text/plain": [
              "tensor([[0.3155],\n",
              "        [0.2976],\n",
              "        [0.3157],\n",
              "        [0.3311],\n",
              "        [0.2797],\n",
              "        [0.3131],\n",
              "        [0.3291],\n",
              "        [0.3254],\n",
              "        [0.3060],\n",
              "        [0.2822]], grad_fn=<SigmoidBackward0>)"
            ]
          },
          "metadata": {},
          "execution_count": 24
        }
      ]
    },
    {
      "cell_type": "code",
      "source": [
        "model.linear1.weight"
      ],
      "metadata": {
        "colab": {
          "base_uri": "https://localhost:8080/"
        },
        "id": "abDJCkPuiApB",
        "outputId": "5d4975e5-3f96-40cc-a0b6-04f25fe605f6"
      },
      "execution_count": 25,
      "outputs": [
        {
          "output_type": "execute_result",
          "data": {
            "text/plain": [
              "Parameter containing:\n",
              "tensor([[ 0.3764, -0.3976,  0.1549, -0.1924, -0.0856],\n",
              "        [ 0.3658,  0.0490, -0.1129, -0.1132, -0.1119],\n",
              "        [-0.1701,  0.3396,  0.3243,  0.2698,  0.1723]], requires_grad=True)"
            ]
          },
          "metadata": {},
          "execution_count": 25
        }
      ]
    },
    {
      "cell_type": "code",
      "source": [
        "model.linear2.weight"
      ],
      "metadata": {
        "colab": {
          "base_uri": "https://localhost:8080/"
        },
        "id": "8FDWjC3ViFmD",
        "outputId": "d58b8a93-4da2-4451-9ddf-f703eeab65ce"
      },
      "execution_count": 27,
      "outputs": [
        {
          "output_type": "execute_result",
          "data": {
            "text/plain": [
              "Parameter containing:\n",
              "tensor([[-0.0839, -0.2524, -0.4339]], requires_grad=True)"
            ]
          },
          "metadata": {},
          "execution_count": 27
        }
      ]
    },
    {
      "cell_type": "code",
      "source": [
        "from torchinfo import summary\n",
        "summary(model, input_size=(10,5))"
      ],
      "metadata": {
        "colab": {
          "base_uri": "https://localhost:8080/"
        },
        "id": "OgJALaJqiJ0g",
        "outputId": "f88efe99-6243-4ba8-ea29-b3009dce29ba"
      },
      "execution_count": 19,
      "outputs": [
        {
          "output_type": "execute_result",
          "data": {
            "text/plain": [
              "==========================================================================================\n",
              "Layer (type:depth-idx)                   Output Shape              Param #\n",
              "==========================================================================================\n",
              "Model                                    [10, 1]                   --\n",
              "├─Linear: 1-1                            [10, 3]                   18\n",
              "├─ReLU: 1-2                              [10, 3]                   --\n",
              "├─Linear: 1-3                            [10, 1]                   4\n",
              "├─Sigmoid: 1-4                           [10, 1]                   --\n",
              "==========================================================================================\n",
              "Total params: 22\n",
              "Trainable params: 22\n",
              "Non-trainable params: 0\n",
              "Total mult-adds (Units.MEGABYTES): 0.00\n",
              "==========================================================================================\n",
              "Input size (MB): 0.00\n",
              "Forward/backward pass size (MB): 0.00\n",
              "Params size (MB): 0.00\n",
              "Estimated Total Size (MB): 0.00\n",
              "=========================================================================================="
            ]
          },
          "metadata": {},
          "execution_count": 19
        }
      ]
    },
    {
      "cell_type": "code",
      "source": [
        "## doing this with help of container\n",
        "\n",
        "class Model(nn.Module):\n",
        "    def __init__(self, num_features):\n",
        "        super().__init__()\n",
        "        self.network = nn.Sequential(\n",
        "            nn.Linear(num_features, 3),\n",
        "            nn.ReLU(),\n",
        "            nn.Linear(3, 1),\n",
        "            nn.Sigmoid()\n",
        "        )\n",
        "\n",
        "    def forward(self, features):\n",
        "        return self.network(features)\n"
      ],
      "metadata": {
        "id": "LkoJkLaqiqs_"
      },
      "execution_count": 28,
      "outputs": []
    },
    {
      "cell_type": "code",
      "source": [
        "## creating dataset\n",
        "features = torch.rand(10,5)\n",
        "\n",
        "## create model\n",
        "model = Model(features.shape[1])\n",
        "\n",
        "## call model for forword pass\n",
        "model(features)\n"
      ],
      "metadata": {
        "colab": {
          "base_uri": "https://localhost:8080/"
        },
        "id": "unrdmvGKiOj4",
        "outputId": "27d28a24-71a3-484a-f296-e49abfbb9450"
      },
      "execution_count": 29,
      "outputs": [
        {
          "output_type": "execute_result",
          "data": {
            "text/plain": [
              "tensor([[0.4118],\n",
              "        [0.3989],\n",
              "        [0.3660],\n",
              "        [0.3539],\n",
              "        [0.3803],\n",
              "        [0.3805],\n",
              "        [0.3946],\n",
              "        [0.3762],\n",
              "        [0.3826],\n",
              "        [0.3659]], grad_fn=<SigmoidBackward0>)"
            ]
          },
          "metadata": {},
          "execution_count": 29
        }
      ]
    },
    {
      "cell_type": "code",
      "source": [
        "##"
      ],
      "metadata": {
        "id": "W7ZTTYpEjVzd"
      },
      "execution_count": null,
      "outputs": []
    }
  ]
}