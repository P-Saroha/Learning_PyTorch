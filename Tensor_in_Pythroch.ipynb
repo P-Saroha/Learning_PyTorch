{
 "cells": [
  {
   "cell_type": "code",
   "execution_count": 2,
   "metadata": {
    "colab": {
     "base_uri": "https://localhost:8080/"
    },
    "id": "NVBApuazdli6",
    "outputId": "dbdc7d7c-3d21-49b5-a25b-0d1158d61884"
   },
   "outputs": [
    {
     "name": "stdout",
     "output_type": "stream",
     "text": [
      "2.6.0+cu124\n"
     ]
    }
   ],
   "source": [
    "import torch\n",
    "print(torch.__version__)"
   ]
  },
  {
   "cell_type": "code",
   "execution_count": 3,
   "metadata": {
    "colab": {
     "base_uri": "https://localhost:8080/"
    },
    "id": "6A2xEbNYen9L",
    "outputId": "5ed1f8ca-2d25-4564-90e1-2923c6a2d965"
   },
   "outputs": [
    {
     "data": {
      "text/plain": [
       "tensor([[-8.9762e-07,  4.4528e-41, -8.9762e-07,  4.4528e-41],\n",
       "        [ 6.8485e-34,  0.0000e+00,  6.8485e-34,  0.0000e+00],\n",
       "        [ 1.4013e-45,  0.0000e+00,  6.8485e-34,  0.0000e+00]])"
      ]
     },
     "execution_count": 3,
     "metadata": {},
     "output_type": "execute_result"
    }
   ],
   "source": [
    "## Using Empty\n",
    "torch.empty(3,4)"
   ]
  },
  {
   "cell_type": "code",
   "execution_count": 4,
   "metadata": {
    "colab": {
     "base_uri": "https://localhost:8080/"
    },
    "id": "6Hp5N_gQfIxc",
    "outputId": "2e3cc1d9-b36e-46e1-a55f-18cd2ba130aa"
   },
   "outputs": [
    {
     "name": "stdout",
     "output_type": "stream",
     "text": [
      "<class 'torch.Tensor'>\n"
     ]
    }
   ],
   "source": [
    "## Type\n",
    "x = torch.empty(2,2)\n",
    "print(type(x))"
   ]
  },
  {
   "cell_type": "code",
   "execution_count": 5,
   "metadata": {
    "colab": {
     "base_uri": "https://localhost:8080/"
    },
    "id": "_OVsOq28fdBj",
    "outputId": "a12396b9-8ef7-49a0-fcd5-1b233e1bb650"
   },
   "outputs": [
    {
     "data": {
      "text/plain": [
       "tensor([[0., 0., 0.],\n",
       "        [0., 0., 0.]])"
      ]
     },
     "execution_count": 5,
     "metadata": {},
     "output_type": "execute_result"
    }
   ],
   "source": [
    "## Using zero\n",
    "torch.zeros(2,3)"
   ]
  },
  {
   "cell_type": "code",
   "execution_count": 6,
   "metadata": {
    "colab": {
     "base_uri": "https://localhost:8080/"
    },
    "id": "cO3rlWKzfvKf",
    "outputId": "54399ee4-8cdc-4dd1-b0de-b143d355880d"
   },
   "outputs": [
    {
     "data": {
      "text/plain": [
       "tensor([[1., 1., 1.],\n",
       "        [1., 1., 1.],\n",
       "        [1., 1., 1.]])"
      ]
     },
     "execution_count": 6,
     "metadata": {},
     "output_type": "execute_result"
    }
   ],
   "source": [
    "## Using one\n",
    "torch.ones(3,3)"
   ]
  },
  {
   "cell_type": "code",
   "execution_count": 7,
   "metadata": {
    "colab": {
     "base_uri": "https://localhost:8080/"
    },
    "id": "t1PVTCWqf44W",
    "outputId": "0cd876c9-64a6-460b-a256-e713d0ff9788"
   },
   "outputs": [
    {
     "data": {
      "text/plain": [
       "tensor([[0.1385, 0.5412, 0.4141],\n",
       "        [0.3689, 0.0991, 0.8889],\n",
       "        [0.3755, 0.4302, 0.8469]])"
      ]
     },
     "execution_count": 7,
     "metadata": {},
     "output_type": "execute_result"
    }
   ],
   "source": [
    "## using rand\n",
    "torch.rand(3,3)"
   ]
  },
  {
   "cell_type": "code",
   "execution_count": 8,
   "metadata": {
    "colab": {
     "base_uri": "https://localhost:8080/"
    },
    "id": "0hfYp6qegElF",
    "outputId": "71e56791-5f43-4cfa-b2d0-1e3110e4405a"
   },
   "outputs": [
    {
     "data": {
      "text/plain": [
       "tensor([[0.4581, 0.4829, 0.3125, 0.6150],\n",
       "        [0.2139, 0.4118, 0.6938, 0.9693],\n",
       "        [0.6178, 0.3304, 0.5479, 0.4440]])"
      ]
     },
     "execution_count": 8,
     "metadata": {},
     "output_type": "execute_result"
    }
   ],
   "source": [
    "## manual_seed()\n",
    "torch.manual_seed(10)\n",
    "torch.rand(3,4)"
   ]
  },
  {
   "cell_type": "code",
   "execution_count": 9,
   "metadata": {
    "colab": {
     "base_uri": "https://localhost:8080/"
    },
    "id": "sQWzzXnigPYG",
    "outputId": "ffd664b1-3ba3-4cfb-df96-63d607129de9"
   },
   "outputs": [
    {
     "data": {
      "text/plain": [
       "tensor([[1, 2, 3],\n",
       "        [4, 5, 6]])"
      ]
     },
     "execution_count": 9,
     "metadata": {},
     "output_type": "execute_result"
    }
   ],
   "source": [
    "## using tensor\n",
    "torch.tensor([[1,2,3],[4,5,6]])"
   ]
  },
  {
   "cell_type": "code",
   "execution_count": 10,
   "metadata": {
    "colab": {
     "base_uri": "https://localhost:8080/"
    },
    "id": "2kxt5KpZg0eV",
    "outputId": "0a65f76f-aadc-4e73-87e7-9dc58ba02441"
   },
   "outputs": [
    {
     "name": "stdout",
     "output_type": "stream",
     "text": [
      "tensor([[1., 0., 0.],\n",
      "        [0., 1., 0.],\n",
      "        [0., 0., 1.]])\n"
     ]
    }
   ],
   "source": [
    "I = torch.eye(3)  # 3x3 identity matrix\n",
    "print(I)"
   ]
  },
  {
   "cell_type": "code",
   "execution_count": 11,
   "metadata": {
    "colab": {
     "base_uri": "https://localhost:8080/"
    },
    "id": "KStkM09VhmP_",
    "outputId": "46b12d02-db9d-4060-c491-f83f65563708"
   },
   "outputs": [
    {
     "name": "stdout",
     "output_type": "stream",
     "text": [
      "tensor([[7, 7, 7],\n",
      "        [7, 7, 7]])\n"
     ]
    }
   ],
   "source": [
    "F = torch.full((2, 3), 7)  # 2x3 tensor filled with 7s\n",
    "print(F)\n"
   ]
  },
  {
   "cell_type": "code",
   "execution_count": 12,
   "metadata": {
    "colab": {
     "base_uri": "https://localhost:8080/"
    },
    "id": "io-SuGGRhm1s",
    "outputId": "4ed0ed9e-e61e-434d-bf9c-535e9429378e"
   },
   "outputs": [
    {
     "name": "stdout",
     "output_type": "stream",
     "text": [
      "tensor([ 1.0000,  3.2500,  5.5000,  7.7500, 10.0000])\n"
     ]
    }
   ],
   "source": [
    "L = torch.linspace(1, 10, 5)  # 5 values between 1 and 10\n",
    "print(L)\n"
   ]
  },
  {
   "cell_type": "markdown",
   "metadata": {
    "id": "JZHull5Dr13K"
   },
   "source": [
    "## Shapes in Tesnor"
   ]
  },
  {
   "cell_type": "code",
   "execution_count": 13,
   "metadata": {
    "colab": {
     "base_uri": "https://localhost:8080/"
    },
    "id": "xp9lbnT2hqcs",
    "outputId": "aa5e2ee0-6fb7-43b0-c12c-610f0827edf7"
   },
   "outputs": [
    {
     "data": {
      "text/plain": [
       "tensor([[3, 4, 5],\n",
       "        [4, 7, 8]])"
      ]
     },
     "execution_count": 13,
     "metadata": {},
     "output_type": "execute_result"
    }
   ],
   "source": [
    "x = torch.tensor([[3,4,5],[4,7,8]])\n",
    "x"
   ]
  },
  {
   "cell_type": "code",
   "execution_count": 14,
   "metadata": {
    "colab": {
     "base_uri": "https://localhost:8080/"
    },
    "id": "kBYWeQNYsLiI",
    "outputId": "93eb0918-1202-47ab-8eee-8df58d8f8e0d"
   },
   "outputs": [
    {
     "data": {
      "text/plain": [
       "torch.Size([2, 3])"
      ]
     },
     "execution_count": 14,
     "metadata": {},
     "output_type": "execute_result"
    }
   ],
   "source": [
    "x.shape"
   ]
  },
  {
   "cell_type": "code",
   "execution_count": 15,
   "metadata": {
    "colab": {
     "base_uri": "https://localhost:8080/"
    },
    "id": "6NaTl7X0sO6A",
    "outputId": "4e67dc4e-e656-4284-a055-b667fb2ee972"
   },
   "outputs": [
    {
     "data": {
      "text/plain": [
       "tensor([[              0,       140768640,       117308432],\n",
       "        [136475499446736,               0,               0]])"
      ]
     },
     "execution_count": 15,
     "metadata": {},
     "output_type": "execute_result"
    }
   ],
   "source": [
    "## empty_like --> give same shape as you give in input\n",
    "torch.empty_like(x)"
   ]
  },
  {
   "cell_type": "code",
   "execution_count": 16,
   "metadata": {
    "colab": {
     "base_uri": "https://localhost:8080/"
    },
    "id": "kHgrwMOCsmFN",
    "outputId": "36b8c11b-b6f3-4194-fb9f-fb872f892844"
   },
   "outputs": [
    {
     "data": {
      "text/plain": [
       "tensor([[0, 0, 0],\n",
       "        [0, 0, 0]])"
      ]
     },
     "execution_count": 16,
     "metadata": {},
     "output_type": "execute_result"
    }
   ],
   "source": [
    "## zeros_like --> give 0 to all values\n",
    "\n",
    "torch.zeros_like(x)"
   ]
  },
  {
   "cell_type": "markdown",
   "metadata": {
    "id": "CaL7FVjPtW9c"
   },
   "source": [
    "## Tensor Data Types\n",
    "\n"
   ]
  },
  {
   "cell_type": "code",
   "execution_count": 17,
   "metadata": {
    "colab": {
     "base_uri": "https://localhost:8080/"
    },
    "id": "iOE0z2bbs6jQ",
    "outputId": "ed58acce-e07c-42db-c3de-5e603cb25d9f"
   },
   "outputs": [
    {
     "data": {
      "text/plain": [
       "torch.int64"
      ]
     },
     "execution_count": 17,
     "metadata": {},
     "output_type": "execute_result"
    }
   ],
   "source": [
    "x.dtype\n",
    "## finding data type"
   ]
  },
  {
   "cell_type": "code",
   "execution_count": 18,
   "metadata": {
    "colab": {
     "base_uri": "https://localhost:8080/"
    },
    "id": "K3KRcHuwvVrg",
    "outputId": "b207430a-cfcd-4b9b-ee7e-1705d60eec13"
   },
   "outputs": [
    {
     "data": {
      "text/plain": [
       "tensor([1, 2, 3, 4])"
      ]
     },
     "execution_count": 18,
     "metadata": {},
     "output_type": "execute_result"
    }
   ],
   "source": [
    "## assign data type\n",
    "torch.tensor([1.2,2.2,3.3,4.4],dtype=torch.int64)"
   ]
  },
  {
   "cell_type": "code",
   "execution_count": 19,
   "metadata": {
    "colab": {
     "base_uri": "https://localhost:8080/"
    },
    "id": "bxv3dcFTwPI5",
    "outputId": "28753f6b-ae34-4830-85b6-d6b81222e1ee"
   },
   "outputs": [
    {
     "data": {
      "text/plain": [
       "tensor([1., 2., 3., 4.], dtype=torch.float64)"
      ]
     },
     "execution_count": 19,
     "metadata": {},
     "output_type": "execute_result"
    }
   ],
   "source": [
    "torch.tensor([1, 2, 3, 4],dtype=torch.float64)"
   ]
  },
  {
   "cell_type": "code",
   "execution_count": 20,
   "metadata": {
    "colab": {
     "base_uri": "https://localhost:8080/"
    },
    "id": "CTfnlyk2wdVM",
    "outputId": "491de339-365c-4d59-9cd5-177710594316"
   },
   "outputs": [
    {
     "data": {
      "text/plain": [
       "tensor([[3., 4., 5.],\n",
       "        [4., 7., 8.]])"
      ]
     },
     "execution_count": 20,
     "metadata": {},
     "output_type": "execute_result"
    }
   ],
   "source": [
    "## using to ()--> changing data type of exesting one\n",
    "x.to(torch.float32)"
   ]
  },
  {
   "cell_type": "markdown",
   "metadata": {
    "id": "TTgZGk4AxSz0"
   },
   "source": [
    "##\n",
    "Math operation in Tensor"
   ]
  },
  {
   "cell_type": "code",
   "execution_count": 21,
   "metadata": {
    "colab": {
     "base_uri": "https://localhost:8080/"
    },
    "id": "qMETRLDrxELi",
    "outputId": "d86e24eb-7c3a-444e-a752-80d67caa3245"
   },
   "outputs": [
    {
     "data": {
      "text/plain": [
       "tensor([[0.7041, 0.5573, 0.6959],\n",
       "        [0.9849, 0.2924, 0.4823],\n",
       "        [0.6150, 0.4967, 0.4521]])"
      ]
     },
     "execution_count": 21,
     "metadata": {},
     "output_type": "execute_result"
    }
   ],
   "source": [
    "a = torch.rand(3,3)\n",
    "a"
   ]
  },
  {
   "cell_type": "markdown",
   "metadata": {
    "id": "kIUmlVrNx16M"
   },
   "source": [
    "## 1. Scalar operation"
   ]
  },
  {
   "cell_type": "code",
   "execution_count": 22,
   "metadata": {
    "colab": {
     "base_uri": "https://localhost:8080/"
    },
    "id": "7Jn7UvSuxxmw",
    "outputId": "f8d7c2d3-5d2b-4d56-cc85-ad7ca49fd790"
   },
   "outputs": [
    {
     "data": {
      "text/plain": [
       "tensor([[0.4957, 0.3105, 0.4842],\n",
       "        [0.9701, 0.0855, 0.2326],\n",
       "        [0.3782, 0.2467, 0.2044]])"
      ]
     },
     "execution_count": 22,
     "metadata": {},
     "output_type": "execute_result"
    }
   ],
   "source": [
    "## add\n",
    "a + 5\n",
    "\n",
    "## sub\n",
    "\n",
    "a-5\n",
    "\n",
    "## mul\n",
    "a * 5\n",
    "\n",
    "## int div\n",
    "\n",
    "a / 5\n",
    "\n",
    "## Mod\n",
    "\n",
    "((a * 100)//3)%3\n",
    "\n",
    "## power\n",
    "\n",
    "a**2"
   ]
  },
  {
   "cell_type": "code",
   "execution_count": 23,
   "metadata": {
    "colab": {
     "base_uri": "https://localhost:8080/"
    },
    "id": "P4BPHsOoyt7w",
    "outputId": "f166e4c4-222a-4f9a-e8ea-db5db0d1a9d8"
   },
   "outputs": [
    {
     "data": {
      "text/plain": [
       "tensor([ 1, -2, -3, 55])"
      ]
     },
     "execution_count": 23,
     "metadata": {},
     "output_type": "execute_result"
    }
   ],
   "source": [
    "p = torch.tensor([1,-2,-3,55])\n",
    "p"
   ]
  },
  {
   "cell_type": "code",
   "execution_count": 24,
   "metadata": {
    "colab": {
     "base_uri": "https://localhost:8080/"
    },
    "id": "KKi8mdYxzOL6",
    "outputId": "eea54998-bc5d-4be8-9a7b-5112b12c56ca"
   },
   "outputs": [
    {
     "data": {
      "text/plain": [
       "tensor([ 1,  2,  3, 55])"
      ]
     },
     "execution_count": 24,
     "metadata": {},
     "output_type": "execute_result"
    }
   ],
   "source": [
    "## Abs\n",
    "torch.abs(p)"
   ]
  },
  {
   "cell_type": "code",
   "execution_count": 25,
   "metadata": {
    "colab": {
     "base_uri": "https://localhost:8080/"
    },
    "id": "-uQTxVx1zS43",
    "outputId": "bd71647b-7316-40cc-e60f-b716fbddc39e"
   },
   "outputs": [
    {
     "data": {
      "text/plain": [
       "tensor([ -1,   2,   3, -55])"
      ]
     },
     "execution_count": 25,
     "metadata": {},
     "output_type": "execute_result"
    }
   ],
   "source": [
    "## negative\n",
    "torch.negative(p)"
   ]
  },
  {
   "cell_type": "code",
   "execution_count": 26,
   "metadata": {
    "colab": {
     "base_uri": "https://localhost:8080/"
    },
    "id": "9E6FucifzYpr",
    "outputId": "1c9e3609-3864-4679-8f5c-920217eb720c"
   },
   "outputs": [
    {
     "data": {
      "text/plain": [
       "tensor([2.2000, 3.5000, 4.5000, 6.7000])"
      ]
     },
     "execution_count": 26,
     "metadata": {},
     "output_type": "execute_result"
    }
   ],
   "source": [
    "y  = torch.tensor([2.2,3.5,4.5,6.7])\n",
    "y"
   ]
  },
  {
   "cell_type": "code",
   "execution_count": 27,
   "metadata": {
    "colab": {
     "base_uri": "https://localhost:8080/"
    },
    "id": "NGVH-imrzzAc",
    "outputId": "83a0ee0f-1210-411e-8939-00eb450229cc"
   },
   "outputs": [
    {
     "data": {
      "text/plain": [
       "tensor([2., 4., 4., 7.])"
      ]
     },
     "execution_count": 27,
     "metadata": {},
     "output_type": "execute_result"
    }
   ],
   "source": [
    "## round --> rounding the values\n",
    "torch.round(y)"
   ]
  },
  {
   "cell_type": "code",
   "execution_count": 28,
   "metadata": {
    "colab": {
     "base_uri": "https://localhost:8080/"
    },
    "id": "1FIna8tm0VHY",
    "outputId": "1a42e5b0-fb11-4053-a802-70b428d26474"
   },
   "outputs": [
    {
     "data": {
      "text/plain": [
       "tensor([3., 4., 5., 7.])"
      ]
     },
     "execution_count": 28,
     "metadata": {},
     "output_type": "execute_result"
    }
   ],
   "source": [
    "## ceil\n",
    "torch.ceil(y)"
   ]
  },
  {
   "cell_type": "code",
   "execution_count": 29,
   "metadata": {
    "colab": {
     "base_uri": "https://localhost:8080/"
    },
    "id": "FyrgV9fk0l1A",
    "outputId": "a0673084-13c7-40b2-9efa-274b7e5f7455"
   },
   "outputs": [
    {
     "data": {
      "text/plain": [
       "tensor([2., 3., 4., 6.])"
      ]
     },
     "execution_count": 29,
     "metadata": {},
     "output_type": "execute_result"
    }
   ],
   "source": [
    "## floor\n",
    "torch.floor(y)"
   ]
  },
  {
   "cell_type": "code",
   "execution_count": 30,
   "metadata": {
    "colab": {
     "base_uri": "https://localhost:8080/"
    },
    "id": "ODA-Rwd70r1k",
    "outputId": "ca4df655-b889-4614-92d8-a0d53111cbe3"
   },
   "outputs": [
    {
     "data": {
      "text/plain": [
       "tensor([2.2000, 3.0000, 3.0000, 3.0000])"
      ]
     },
     "execution_count": 30,
     "metadata": {},
     "output_type": "execute_result"
    }
   ],
   "source": [
    "## clamp\n",
    "\n",
    "torch.clamp(y , min= 2 , max = 3)"
   ]
  },
  {
   "cell_type": "markdown",
   "metadata": {
    "id": "YvTsOmKE08DX"
   },
   "source": [
    "## Reduction Operation"
   ]
  },
  {
   "cell_type": "code",
   "execution_count": 31,
   "metadata": {
    "colab": {
     "base_uri": "https://localhost:8080/"
    },
    "id": "SCTcMOi301kz",
    "outputId": "e002e527-4a31-40b6-dd68-00cd73949f29"
   },
   "outputs": [
    {
     "data": {
      "text/plain": [
       "tensor([[4, 8, 6],\n",
       "        [6, 6, 3],\n",
       "        [2, 8, 7]])"
      ]
     },
     "execution_count": 31,
     "metadata": {},
     "output_type": "execute_result"
    }
   ],
   "source": [
    "t = torch.randint(size=(3,3), low=1, high=10)\n",
    "t"
   ]
  },
  {
   "cell_type": "markdown",
   "metadata": {
    "id": "qJwi6Txi07QV"
   },
   "source": []
  },
  {
   "cell_type": "code",
   "execution_count": 32,
   "metadata": {
    "colab": {
     "base_uri": "https://localhost:8080/"
    },
    "id": "b0GLlfrP11S4",
    "outputId": "cba29621-3ada-4cb3-e728-9eed0b638dcf"
   },
   "outputs": [
    {
     "data": {
      "text/plain": [
       "tensor(50)"
      ]
     },
     "execution_count": 32,
     "metadata": {},
     "output_type": "execute_result"
    }
   ],
   "source": [
    "## sum\n",
    "torch.sum(t)"
   ]
  },
  {
   "cell_type": "code",
   "execution_count": 33,
   "metadata": {
    "colab": {
     "base_uri": "https://localhost:8080/"
    },
    "id": "gEQ-dIPA18tJ",
    "outputId": "d8ae93ff-c3b3-49b9-8ec4-7583dcede04f"
   },
   "outputs": [
    {
     "data": {
      "text/plain": [
       "tensor([12, 22, 16])"
      ]
     },
     "execution_count": 33,
     "metadata": {},
     "output_type": "execute_result"
    }
   ],
   "source": [
    "## sum along columns\n",
    "torch.sum(t,dim=0)"
   ]
  },
  {
   "cell_type": "code",
   "execution_count": 34,
   "metadata": {
    "colab": {
     "base_uri": "https://localhost:8080/"
    },
    "id": "xVRDReDf2J3z",
    "outputId": "49292047-b0f9-4e66-9e76-9756f30ef96c"
   },
   "outputs": [
    {
     "data": {
      "text/plain": [
       "tensor([18, 15, 17])"
      ]
     },
     "execution_count": 34,
     "metadata": {},
     "output_type": "execute_result"
    }
   ],
   "source": [
    "## sum along row\n",
    "torch.sum(t,dim=1)"
   ]
  },
  {
   "cell_type": "code",
   "execution_count": 35,
   "metadata": {
    "colab": {
     "base_uri": "https://localhost:8080/"
    },
    "id": "lcC1IMR22RCa",
    "outputId": "e9419540-6ceb-4b61-c31b-e39654506019"
   },
   "outputs": [
    {
     "data": {
      "text/plain": [
       "tensor([[ 3., 14.],\n",
       "        [ 3., 11.],\n",
       "        [ 9.,  8.]])"
      ]
     },
     "execution_count": 35,
     "metadata": {},
     "output_type": "execute_result"
    }
   ],
   "source": [
    "## Mean\n",
    "# RuntimeError: mean(): could not infer output dtype. Input dtype must be either a floating point or complex dtype. Got: Long\n",
    "r = torch.randint(size=(3,2), low = 1 , high = 15, dtype=torch.\n",
    "                  float32)\n",
    "r"
   ]
  },
  {
   "cell_type": "code",
   "execution_count": 36,
   "metadata": {
    "colab": {
     "base_uri": "https://localhost:8080/"
    },
    "id": "bMUmU3cl4PWZ",
    "outputId": "7ee6808a-fe65-4319-b5e8-d3819cd6c2e2"
   },
   "outputs": [
    {
     "data": {
      "text/plain": [
       "tensor(8.)"
      ]
     },
     "execution_count": 36,
     "metadata": {},
     "output_type": "execute_result"
    }
   ],
   "source": [
    "torch.mean(r)"
   ]
  },
  {
   "cell_type": "code",
   "execution_count": 37,
   "metadata": {
    "colab": {
     "base_uri": "https://localhost:8080/"
    },
    "id": "rZcYVjAO2yKr",
    "outputId": "0572777f-c53c-41de-82dd-ffb5c5c6774f"
   },
   "outputs": [
    {
     "data": {
      "text/plain": [
       "tensor(8.)"
      ]
     },
     "execution_count": 37,
     "metadata": {},
     "output_type": "execute_result"
    }
   ],
   "source": [
    "## median\n",
    "torch.median(r)"
   ]
  },
  {
   "cell_type": "code",
   "execution_count": 38,
   "metadata": {
    "colab": {
     "base_uri": "https://localhost:8080/"
    },
    "id": "hbFEfBr-3emp",
    "outputId": "32981cd6-2e19-42be-b042-393d606c39dd"
   },
   "outputs": [
    {
     "data": {
      "text/plain": [
       "tensor(99792.)"
      ]
     },
     "execution_count": 38,
     "metadata": {},
     "output_type": "execute_result"
    }
   ],
   "source": [
    "## product of element\n",
    "torch.prod(r)"
   ]
  },
  {
   "cell_type": "code",
   "execution_count": 39,
   "metadata": {
    "colab": {
     "base_uri": "https://localhost:8080/"
    },
    "id": "z2WOEdEj3oKn",
    "outputId": "9855fb7e-a0cb-436b-8579-4e1badc257b9"
   },
   "outputs": [
    {
     "data": {
      "text/plain": [
       "tensor(4.3818)"
      ]
     },
     "execution_count": 39,
     "metadata": {},
     "output_type": "execute_result"
    }
   ],
   "source": [
    "## Standard D\n",
    "\n",
    "torch.std(r)"
   ]
  },
  {
   "cell_type": "code",
   "execution_count": 40,
   "metadata": {
    "colab": {
     "base_uri": "https://localhost:8080/"
    },
    "id": "YtHI9U-f3sHW",
    "outputId": "cbc50b7f-51d8-40ce-ce76-1b6c2410bd0a"
   },
   "outputs": [
    {
     "data": {
      "text/plain": [
       "tensor(1)"
      ]
     },
     "execution_count": 40,
     "metadata": {},
     "output_type": "execute_result"
    }
   ],
   "source": [
    "## argmax --> give index of the maximum value\n",
    "torch.argmax(r)"
   ]
  },
  {
   "cell_type": "code",
   "execution_count": 41,
   "metadata": {
    "colab": {
     "base_uri": "https://localhost:8080/"
    },
    "id": "ViVWf98n4BKz",
    "outputId": "c3a5e5dc-a6e9-4129-c146-6d05c58f375c"
   },
   "outputs": [
    {
     "data": {
      "text/plain": [
       "tensor(0)"
      ]
     },
     "execution_count": 41,
     "metadata": {},
     "output_type": "execute_result"
    }
   ],
   "source": [
    "## argmin --> give index of min value\n",
    "torch.argmin(r)"
   ]
  },
  {
   "cell_type": "markdown",
   "metadata": {
    "id": "roWv2jw-4q_Q"
   },
   "source": [
    "## Matrix operations\n"
   ]
  },
  {
   "cell_type": "code",
   "execution_count": 42,
   "metadata": {
    "id": "RN54BZ0H4dhJ"
   },
   "outputs": [],
   "source": [
    "u = torch.randint(size=(3,3), low=1, high=10)\n",
    "v = torch.randint(size=(3,3), low=1, high=10)\n"
   ]
  },
  {
   "cell_type": "code",
   "execution_count": 43,
   "metadata": {
    "colab": {
     "base_uri": "https://localhost:8080/"
    },
    "id": "6AQVibaF4-Yo",
    "outputId": "b8e8ca63-71ce-4e4a-a12c-20d9bcb1b7e8"
   },
   "outputs": [
    {
     "data": {
      "text/plain": [
       "tensor([[5, 5, 7],\n",
       "        [6, 5, 2],\n",
       "        [5, 7, 9]])"
      ]
     },
     "execution_count": 43,
     "metadata": {},
     "output_type": "execute_result"
    }
   ],
   "source": [
    "u"
   ]
  },
  {
   "cell_type": "code",
   "execution_count": 44,
   "metadata": {
    "colab": {
     "base_uri": "https://localhost:8080/"
    },
    "id": "xq8f741t4_tp",
    "outputId": "a7a66132-138d-43b8-f2a8-5d7002ed426e"
   },
   "outputs": [
    {
     "data": {
      "text/plain": [
       "tensor([[3, 1, 1],\n",
       "        [3, 5, 3],\n",
       "        [2, 9, 3]])"
      ]
     },
     "execution_count": 44,
     "metadata": {},
     "output_type": "execute_result"
    }
   ],
   "source": [
    "v"
   ]
  },
  {
   "cell_type": "code",
   "execution_count": 45,
   "metadata": {
    "colab": {
     "base_uri": "https://localhost:8080/"
    },
    "id": "41XPecSH5AMC",
    "outputId": "76ff72c9-c17a-407b-cf5b-4b6d1a1ba7f4"
   },
   "outputs": [
    {
     "data": {
      "text/plain": [
       "tensor([[ 44,  93,  41],\n",
       "        [ 37,  49,  27],\n",
       "        [ 54, 121,  53]])"
      ]
     },
     "execution_count": 45,
     "metadata": {},
     "output_type": "execute_result"
    }
   ],
   "source": [
    "torch.matmul(u,v)"
   ]
  },
  {
   "cell_type": "code",
   "execution_count": 46,
   "metadata": {
    "colab": {
     "base_uri": "https://localhost:8080/"
    },
    "id": "uXfopPcr5I8F",
    "outputId": "aa8f00b2-f937-4e10-f98c-81d9f2403e6a"
   },
   "outputs": [
    {
     "data": {
      "text/plain": [
       "tensor([[3, 3, 2],\n",
       "        [1, 5, 9],\n",
       "        [1, 3, 3]])"
      ]
     },
     "execution_count": 46,
     "metadata": {},
     "output_type": "execute_result"
    }
   ],
   "source": [
    "## Transpose ==> swap dim 0 with dim 1\n",
    "torch.transpose(v,0,1)"
   ]
  },
  {
   "cell_type": "code",
   "execution_count": 47,
   "metadata": {
    "colab": {
     "base_uri": "https://localhost:8080/"
    },
    "id": "t8rK3ie25PXB",
    "outputId": "dccb80cb-6279-444f-8911-6fe96060f968"
   },
   "outputs": [
    {
     "data": {
      "text/plain": [
       "tensor([[11., 12., 13.],\n",
       "        [ 4., 12.,  9.],\n",
       "        [ 4.,  7.,  1.]])"
      ]
     },
     "execution_count": 47,
     "metadata": {},
     "output_type": "execute_result"
    }
   ],
   "source": [
    "w = torch.randint(size=(3,3), low = 1 , high = 15, dtype=torch.\n",
    "                  float32)\n",
    "w"
   ]
  },
  {
   "cell_type": "code",
   "execution_count": 48,
   "metadata": {
    "colab": {
     "base_uri": "https://localhost:8080/"
    },
    "id": "sV7Tgp4d5vZU",
    "outputId": "0524bb35-71fd-4111-da4a-a7e7c88e1d4a"
   },
   "outputs": [
    {
     "data": {
      "text/plain": [
       "tensor(-437.)"
      ]
     },
     "execution_count": 48,
     "metadata": {},
     "output_type": "execute_result"
    }
   ],
   "source": [
    "## Determinant\n",
    "\n",
    "torch.det(w)"
   ]
  },
  {
   "cell_type": "code",
   "execution_count": 49,
   "metadata": {
    "colab": {
     "base_uri": "https://localhost:8080/"
    },
    "id": "EmAHaKB253wM",
    "outputId": "57d06e90-7b39-4671-aff7-d19b60915013"
   },
   "outputs": [
    {
     "data": {
      "text/plain": [
       "tensor([[ 0.1167, -0.1808,  0.1098],\n",
       "        [-0.0732,  0.0938,  0.1076],\n",
       "        [ 0.0458,  0.0664, -0.1922]])"
      ]
     },
     "execution_count": 49,
     "metadata": {},
     "output_type": "execute_result"
    }
   ],
   "source": [
    "## inverse\n",
    "torch.inverse(w)"
   ]
  },
  {
   "cell_type": "markdown",
   "metadata": {
    "id": "YWb1DSsH6H8f"
   },
   "source": [
    "## Comparision operation"
   ]
  },
  {
   "cell_type": "code",
   "execution_count": 50,
   "metadata": {
    "id": "wrx7SmVo5_74"
   },
   "outputs": [],
   "source": [
    "x = torch.randint(size=(3,3), low=1, high=10)\n",
    "y = torch.randint(size=(3,3), low=1, high=10)"
   ]
  },
  {
   "cell_type": "code",
   "execution_count": 51,
   "metadata": {
    "colab": {
     "base_uri": "https://localhost:8080/"
    },
    "id": "PWLp45n4wUCA",
    "outputId": "d9f0db7c-9575-4749-923b-3207e79a0974"
   },
   "outputs": [
    {
     "data": {
      "text/plain": [
       "tensor([[False, False, False],\n",
       "        [ True, False, False],\n",
       "        [ True, False, False]])"
      ]
     },
     "execution_count": 51,
     "metadata": {},
     "output_type": "execute_result"
    }
   ],
   "source": [
    "# equal\n",
    "x==y"
   ]
  },
  {
   "cell_type": "code",
   "execution_count": 52,
   "metadata": {
    "colab": {
     "base_uri": "https://localhost:8080/"
    },
    "id": "ZsMMkLffwfoL",
    "outputId": "7bf6ed96-923d-44f2-e7e0-4bd61887c34b"
   },
   "outputs": [
    {
     "data": {
      "text/plain": [
       "tensor([[False, False,  True],\n",
       "        [False,  True,  True],\n",
       "        [False,  True, False]])"
      ]
     },
     "execution_count": 52,
     "metadata": {},
     "output_type": "execute_result"
    }
   ],
   "source": [
    "## greater\n",
    "x>y"
   ]
  },
  {
   "cell_type": "code",
   "execution_count": 53,
   "metadata": {
    "colab": {
     "base_uri": "https://localhost:8080/"
    },
    "id": "rfDH7QGswpYo",
    "outputId": "efe7a338-ecdc-4abf-9828-0201972c4235"
   },
   "outputs": [
    {
     "data": {
      "text/plain": [
       "tensor([[ True,  True,  True],\n",
       "        [False,  True,  True],\n",
       "        [False,  True,  True]])"
      ]
     },
     "execution_count": 53,
     "metadata": {},
     "output_type": "execute_result"
    }
   ],
   "source": [
    "# not equal to\n",
    "x != y"
   ]
  },
  {
   "cell_type": "markdown",
   "metadata": {
    "id": "sbIrewLUxFwG"
   },
   "source": [
    "## Special function\n"
   ]
  },
  {
   "cell_type": "code",
   "execution_count": 54,
   "metadata": {
    "id": "vYucDbtTwz7D"
   },
   "outputs": [],
   "source": [
    "d = torch.randint(size=(4,4), low =1 , high = 10 , dtype =torch.float32)"
   ]
  },
  {
   "cell_type": "code",
   "execution_count": 55,
   "metadata": {
    "colab": {
     "base_uri": "https://localhost:8080/"
    },
    "id": "IzApdiVvxhSI",
    "outputId": "26de76f2-b465-4c38-edeb-aa14e1262eb7"
   },
   "outputs": [
    {
     "data": {
      "text/plain": [
       "tensor([[0.0000, 0.0000, 1.7918, 0.0000],\n",
       "        [2.1972, 1.6094, 2.0794, 2.1972],\n",
       "        [1.0986, 1.9459, 0.0000, 1.0986],\n",
       "        [1.7918, 2.0794, 1.0986, 1.3863]])"
      ]
     },
     "execution_count": 55,
     "metadata": {},
     "output_type": "execute_result"
    }
   ],
   "source": [
    "## Log\n",
    "torch.log(d)"
   ]
  },
  {
   "cell_type": "code",
   "execution_count": 56,
   "metadata": {
    "colab": {
     "base_uri": "https://localhost:8080/"
    },
    "id": "Ir6qMP87xuyK",
    "outputId": "a05132ce-c8d0-4890-d461-f9d8d12aa16c"
   },
   "outputs": [
    {
     "data": {
      "text/plain": [
       "tensor([[2.7183e+00, 2.7183e+00, 4.0343e+02, 2.7183e+00],\n",
       "        [8.1031e+03, 1.4841e+02, 2.9810e+03, 8.1031e+03],\n",
       "        [2.0086e+01, 1.0966e+03, 2.7183e+00, 2.0086e+01],\n",
       "        [4.0343e+02, 2.9810e+03, 2.0086e+01, 5.4598e+01]])"
      ]
     },
     "execution_count": 56,
     "metadata": {},
     "output_type": "execute_result"
    }
   ],
   "source": [
    "## exp\n",
    "torch.exp(d)"
   ]
  },
  {
   "cell_type": "code",
   "execution_count": 57,
   "metadata": {
    "colab": {
     "base_uri": "https://localhost:8080/"
    },
    "id": "pAB33NbLxzJY",
    "outputId": "815bed53-448c-4b84-c8f7-cca8d68a3ccc"
   },
   "outputs": [
    {
     "data": {
      "text/plain": [
       "tensor([[0.7311, 0.7311, 0.9975, 0.7311],\n",
       "        [0.9999, 0.9933, 0.9997, 0.9999],\n",
       "        [0.9526, 0.9991, 0.7311, 0.9526],\n",
       "        [0.9975, 0.9997, 0.9526, 0.9820]])"
      ]
     },
     "execution_count": 57,
     "metadata": {},
     "output_type": "execute_result"
    }
   ],
   "source": [
    "## sigmoid\n",
    "torch.sigmoid(d)"
   ]
  },
  {
   "cell_type": "code",
   "execution_count": 58,
   "metadata": {
    "colab": {
     "base_uri": "https://localhost:8080/"
    },
    "id": "HgcwuTPXx50N",
    "outputId": "ef74c97b-21b7-47e2-c34f-340c4fec7568"
   },
   "outputs": [
    {
     "data": {
      "text/plain": [
       "tensor([[1., 1., 6., 1.],\n",
       "        [9., 5., 8., 9.],\n",
       "        [3., 7., 1., 3.],\n",
       "        [6., 8., 3., 4.]])"
      ]
     },
     "execution_count": 58,
     "metadata": {},
     "output_type": "execute_result"
    }
   ],
   "source": [
    "## relu\n",
    "torch.relu(d)"
   ]
  },
  {
   "cell_type": "markdown",
   "metadata": {
    "id": "7B3OQlVey9xc"
   },
   "source": [
    "## inplace Operation"
   ]
  },
  {
   "cell_type": "code",
   "execution_count": 59,
   "metadata": {
    "id": "BSpLw6qvyDtR"
   },
   "outputs": [],
   "source": [
    "g = torch.rand(2,2)\n",
    "h = torch.rand((2,2))\n"
   ]
  },
  {
   "cell_type": "code",
   "execution_count": 60,
   "metadata": {
    "colab": {
     "base_uri": "https://localhost:8080/"
    },
    "id": "jUbeDKbqzNDM",
    "outputId": "c53d04e4-78a3-481a-fc28-865a68d8bd60"
   },
   "outputs": [
    {
     "data": {
      "text/plain": [
       "tensor([[1.4488, 1.1699],\n",
       "        [0.8011, 0.6905]])"
      ]
     },
     "execution_count": 60,
     "metadata": {},
     "output_type": "execute_result"
    }
   ],
   "source": [
    "g+h"
   ]
  },
  {
   "cell_type": "code",
   "execution_count": 61,
   "metadata": {
    "id": "fUld55F80GdD"
   },
   "outputs": [],
   "source": [
    "## if we want to change permanent then we can use any function with _(underscore). --> inplace operation"
   ]
  },
  {
   "cell_type": "code",
   "execution_count": 62,
   "metadata": {
    "colab": {
     "base_uri": "https://localhost:8080/"
    },
    "id": "RcKFcJLgzZQt",
    "outputId": "b55f76f1-8737-4f5c-a48d-e28092372d90"
   },
   "outputs": [
    {
     "data": {
      "text/plain": [
       "tensor([[1.4488, 1.1699],\n",
       "        [0.8011, 0.6905]])"
      ]
     },
     "execution_count": 62,
     "metadata": {},
     "output_type": "execute_result"
    }
   ],
   "source": [
    "g.add_(h)"
   ]
  },
  {
   "cell_type": "code",
   "execution_count": 63,
   "metadata": {
    "colab": {
     "base_uri": "https://localhost:8080/"
    },
    "id": "8eutzFpyzpGc",
    "outputId": "0d707497-bc97-4feb-b303-cc96301553fc"
   },
   "outputs": [
    {
     "data": {
      "text/plain": [
       "tensor([[1.4488, 1.1699],\n",
       "        [0.8011, 0.6905]])"
      ]
     },
     "execution_count": 63,
     "metadata": {},
     "output_type": "execute_result"
    }
   ],
   "source": [
    "g"
   ]
  },
  {
   "cell_type": "markdown",
   "metadata": {
    "id": "hCRebleZ0nWI"
   },
   "source": [
    "## copying a tensor"
   ]
  },
  {
   "cell_type": "code",
   "execution_count": 64,
   "metadata": {
    "colab": {
     "base_uri": "https://localhost:8080/"
    },
    "id": "koj7ghvwzrzr",
    "outputId": "8827c909-b008-4d1c-bad5-ef1310478b0f"
   },
   "outputs": [
    {
     "data": {
      "text/plain": [
       "tensor([[0.7614, 0.6949, 0.7133],\n",
       "        [0.3333, 0.4325, 0.7307],\n",
       "        [0.7065, 0.8321, 0.2001]])"
      ]
     },
     "execution_count": 64,
     "metadata": {},
     "output_type": "execute_result"
    }
   ],
   "source": [
    "c = torch.rand(3,3)\n",
    "c"
   ]
  },
  {
   "cell_type": "code",
   "execution_count": 65,
   "metadata": {
    "id": "CNDwdYJV1U6K"
   },
   "outputs": [],
   "source": [
    "b = a"
   ]
  },
  {
   "cell_type": "code",
   "execution_count": 66,
   "metadata": {
    "colab": {
     "base_uri": "https://localhost:8080/"
    },
    "id": "fgIEKyrR1YfW",
    "outputId": "2f26dabb-eefd-419f-d93d-931469b2b981"
   },
   "outputs": [
    {
     "data": {
      "text/plain": [
       "tensor([[0.7041, 0.0000, 0.6959],\n",
       "        [0.9849, 0.2924, 0.4823],\n",
       "        [0.6150, 0.4967, 0.4521]])"
      ]
     },
     "execution_count": 66,
     "metadata": {},
     "output_type": "execute_result"
    }
   ],
   "source": [
    "a[0][1]=0\n",
    "a"
   ]
  },
  {
   "cell_type": "code",
   "execution_count": 67,
   "metadata": {
    "colab": {
     "base_uri": "https://localhost:8080/"
    },
    "id": "GNpE6CKN1bSH",
    "outputId": "bca23086-912e-499d-eaae-52cb3cfc4b53"
   },
   "outputs": [
    {
     "data": {
      "text/plain": [
       "tensor([[0.7041, 0.0000, 0.6959],\n",
       "        [0.9849, 0.2924, 0.4823],\n",
       "        [0.6150, 0.4967, 0.4521]])"
      ]
     },
     "execution_count": 67,
     "metadata": {},
     "output_type": "execute_result"
    }
   ],
   "source": [
    "b\n",
    "## don't want to change in b"
   ]
  },
  {
   "cell_type": "code",
   "execution_count": 68,
   "metadata": {
    "id": "QNfVj9oP1hXr"
   },
   "outputs": [],
   "source": [
    "b = a.clone()"
   ]
  },
  {
   "cell_type": "code",
   "execution_count": 69,
   "metadata": {
    "colab": {
     "base_uri": "https://localhost:8080/"
    },
    "id": "9sW4M2BD1wQq",
    "outputId": "4fa321ee-ecaf-4e6f-b0e6-d36bb0f9fe57"
   },
   "outputs": [
    {
     "data": {
      "text/plain": [
       "tensor([[0.7041, 0.0000, 0.6959],\n",
       "        [0.9849, 2.0000, 0.4823],\n",
       "        [0.6150, 0.4967, 0.4521]])"
      ]
     },
     "execution_count": 69,
     "metadata": {},
     "output_type": "execute_result"
    }
   ],
   "source": [
    "a[1][1]=2\n",
    "a"
   ]
  },
  {
   "cell_type": "code",
   "execution_count": 70,
   "metadata": {
    "colab": {
     "base_uri": "https://localhost:8080/"
    },
    "id": "vsOCdhsx1y-w",
    "outputId": "abc78b1f-47a6-42f6-faa7-b48307801c58"
   },
   "outputs": [
    {
     "data": {
      "text/plain": [
       "tensor([[0.7041, 0.0000, 0.6959],\n",
       "        [0.9849, 0.2924, 0.4823],\n",
       "        [0.6150, 0.4967, 0.4521]])"
      ]
     },
     "execution_count": 70,
     "metadata": {},
     "output_type": "execute_result"
    }
   ],
   "source": [
    "b"
   ]
  },
  {
   "cell_type": "markdown",
   "metadata": {
    "id": "HxCx6w602Duu"
   },
   "source": [
    "## Tensor operation on GPU"
   ]
  },
  {
   "cell_type": "code",
   "execution_count": 71,
   "metadata": {
    "colab": {
     "base_uri": "https://localhost:8080/"
    },
    "id": "TFdK00pA12bz",
    "outputId": "baca62a0-7c90-4388-d500-a08b7efb492d"
   },
   "outputs": [
    {
     "name": "stdout",
     "output_type": "stream",
     "text": [
      "CPU Time: 0.083008 seconds\n",
      "GPU Time: 0.152829 seconds\n"
     ]
    }
   ],
   "source": [
    "\n",
    "import time\n",
    "\n",
    "# Define matrix size\n",
    "size = (1000, 1000)\n",
    "\n",
    "# Create random matrices\n",
    "A = torch.rand(size)\n",
    "B = torch.rand(size)\n",
    "\n",
    "# Check if GPU is available\n",
    "device = torch.device(\"cuda\" if torch.cuda.is_available() else \"cpu\")\n",
    "\n",
    "# CPU Computation\n",
    "start_cpu = time.time()\n",
    "result_cpu = torch.matmul(A, B)  # Matrix multiplication on CPU\n",
    "end_cpu = time.time()\n",
    "cpu_time = end_cpu - start_cpu\n",
    "\n",
    "# Move tensors to GPU\n",
    "A_gpu = A.to(device)\n",
    "B_gpu = B.to(device)\n",
    "\n",
    "# GPU Computation (with torch.cuda.synchronize to ensure timing is accurate)\n",
    "torch.cuda.synchronize()\n",
    "start_gpu = time.time()\n",
    "result_gpu = torch.matmul(A_gpu, B_gpu)  # Matrix multiplication on GPU\n",
    "torch.cuda.synchronize()\n",
    "end_gpu = time.time()\n",
    "gpu_time = end_gpu - start_gpu\n",
    "\n",
    "# Print time taken\n",
    "print(f\"CPU Time: {cpu_time:.6f} seconds\")\n",
    "print(f\"GPU Time: {gpu_time:.6f} seconds\" if torch.cuda.is_available() else \"GPU not available.\")\n"
   ]
  },
  {
   "cell_type": "markdown",
   "metadata": {
    "id": "lpOV8uXl31PC"
   },
   "source": [
    "## Reshapeing Tensor"
   ]
  },
  {
   "cell_type": "code",
   "execution_count": 75,
   "metadata": {
    "colab": {
     "base_uri": "https://localhost:8080/"
    },
    "id": "yqm-1p4334Zk",
    "outputId": "1eec7013-cc32-46fa-9f11-2da2861bbeaa"
   },
   "outputs": [
    {
     "data": {
      "text/plain": [
       "tensor([[1., 1., 1., 1.],\n",
       "        [1., 1., 1., 1.],\n",
       "        [1., 1., 1., 1.],\n",
       "        [1., 1., 1., 1.]])"
      ]
     },
     "execution_count": 75,
     "metadata": {},
     "output_type": "execute_result"
    }
   ],
   "source": [
    "x = torch.ones(4,4)\n",
    "x"
   ]
  },
  {
   "cell_type": "code",
   "execution_count": 77,
   "metadata": {
    "colab": {
     "base_uri": "https://localhost:8080/"
    },
    "id": "VhQssDBr4DKE",
    "outputId": "5281e557-ef39-4bc9-c205-aaf53f6ae193"
   },
   "outputs": [
    {
     "data": {
      "text/plain": [
       "tensor([[[[1., 1.],\n",
       "          [1., 1.]],\n",
       "\n",
       "         [[1., 1.],\n",
       "          [1., 1.]]],\n",
       "\n",
       "\n",
       "        [[[1., 1.],\n",
       "          [1., 1.]],\n",
       "\n",
       "         [[1., 1.],\n",
       "          [1., 1.]]]])"
      ]
     },
     "execution_count": 77,
     "metadata": {},
     "output_type": "execute_result"
    }
   ],
   "source": [
    "## reshape\n",
    "x.reshape(2,2,2,2)"
   ]
  },
  {
   "cell_type": "code",
   "execution_count": 79,
   "metadata": {
    "colab": {
     "base_uri": "https://localhost:8080/"
    },
    "id": "V_CLjJ1E4S7q",
    "outputId": "c59f7bcb-c124-4e03-83aa-7e0fddfee76e"
   },
   "outputs": [
    {
     "data": {
      "text/plain": [
       "tensor([0.7041, 0.0000, 0.6959, 0.9849, 2.0000, 0.4823, 0.6150, 0.4967, 0.4521])"
      ]
     },
     "execution_count": 79,
     "metadata": {},
     "output_type": "execute_result"
    }
   ],
   "source": [
    "## flatten\n",
    "a.flatten()"
   ]
  },
  {
   "cell_type": "code",
   "execution_count": 81,
   "metadata": {
    "colab": {
     "base_uri": "https://localhost:8080/"
    },
    "id": "yUEtAgG54hap",
    "outputId": "06d7b930-860c-43e4-abad-f6edd4e97f2d"
   },
   "outputs": [
    {
     "name": "stdout",
     "output_type": "stream",
     "text": [
      "Original shape: torch.Size([1, 3, 1, 4])\n",
      "Squeezed shape: torch.Size([3, 4])\n",
      "Squeezed (dim=2) shape: torch.Size([1, 3, 4])\n"
     ]
    }
   ],
   "source": [
    "x = torch.rand(1, 3, 1, 4)  # Shape: [1, 3, 1, 4]\n",
    "print(\"Original shape:\", x.shape)\n",
    "\n",
    "x_squeezed = torch.squeeze(x)  # Removes all dimensions of size 1\n",
    "print(\"Squeezed shape:\", x_squeezed.shape)\n",
    "\n",
    "x_squeezed_dim = torch.squeeze(x, dim=2)  # Removes only dim=2 if size is 1\n",
    "print(\"Squeezed (dim=2) shape:\", x_squeezed_dim.shape)"
   ]
  },
  {
   "cell_type": "markdown",
   "metadata": {
    "id": "jaD2C6sh533w"
   },
   "source": [
    "## NumPy and Torch"
   ]
  },
  {
   "cell_type": "code",
   "execution_count": 82,
   "metadata": {
    "id": "KGMDL4Hw5fqH"
   },
   "outputs": [],
   "source": [
    "import numpy as np"
   ]
  },
  {
   "cell_type": "code",
   "execution_count": 83,
   "metadata": {
    "colab": {
     "base_uri": "https://localhost:8080/"
    },
    "id": "FbiGhM-J5-lT",
    "outputId": "c078ac07-6ef6-484e-da4a-cf79c003dd1e"
   },
   "outputs": [
    {
     "data": {
      "text/plain": [
       "tensor([3, 4, 5, 6, 6])"
      ]
     },
     "execution_count": 83,
     "metadata": {},
     "output_type": "execute_result"
    }
   ],
   "source": [
    "f = torch.tensor([3,4,5,6,6])\n",
    "f"
   ]
  },
  {
   "cell_type": "code",
   "execution_count": 85,
   "metadata": {
    "colab": {
     "base_uri": "https://localhost:8080/"
    },
    "id": "SLV6pQbM6MSG",
    "outputId": "3e7d1c75-41f8-4241-bbef-e7fa9be1f481"
   },
   "outputs": [
    {
     "data": {
      "text/plain": [
       "array([3, 4, 5, 6, 6])"
      ]
     },
     "execution_count": 85,
     "metadata": {},
     "output_type": "execute_result"
    }
   ],
   "source": [
    "d = f.numpy()\n",
    "d"
   ]
  },
  {
   "cell_type": "code",
   "execution_count": 86,
   "metadata": {
    "colab": {
     "base_uri": "https://localhost:8080/"
    },
    "id": "e_uTBMgq6SSM",
    "outputId": "6ad2287c-b678-480d-f4d5-008ba01c6c7a"
   },
   "outputs": [
    {
     "data": {
      "text/plain": [
       "array([2, 3, 4, 5])"
      ]
     },
     "execution_count": 86,
     "metadata": {},
     "output_type": "execute_result"
    }
   ],
   "source": [
    "c = np.array([2,3,4,5])\n",
    "c"
   ]
  },
  {
   "cell_type": "code",
   "execution_count": 87,
   "metadata": {
    "colab": {
     "base_uri": "https://localhost:8080/"
    },
    "id": "HEWFgQ5n6ZfC",
    "outputId": "d4fbc3cc-a30e-49a3-c5e2-95b93bd803dd"
   },
   "outputs": [
    {
     "data": {
      "text/plain": [
       "tensor([2, 3, 4, 5])"
      ]
     },
     "execution_count": 87,
     "metadata": {},
     "output_type": "execute_result"
    }
   ],
   "source": [
    "torch.from_numpy(c)"
   ]
  },
  {
   "cell_type": "code",
   "execution_count": null,
   "metadata": {
    "id": "K0lqXid76f2r"
   },
   "outputs": [],
   "source": []
  }
 ],
 "metadata": {
  "accelerator": "GPU",
  "colab": {
   "gpuType": "T4",
   "provenance": []
  },
  "kernelspec": {
   "display_name": "Python 3 (ipykernel)",
   "language": "python",
   "name": "python3"
  },
  "language_info": {
   "codemirror_mode": {
    "name": "ipython",
    "version": 3
   },
   "file_extension": ".py",
   "mimetype": "text/x-python",
   "name": "python",
   "nbconvert_exporter": "python",
   "pygments_lexer": "ipython3",
   "version": "3.11.9"
  }
 },
 "nbformat": 4,
 "nbformat_minor": 4
}
